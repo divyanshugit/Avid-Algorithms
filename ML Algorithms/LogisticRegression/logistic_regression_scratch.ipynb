{
    "cells": [
        {
            "cell_type": "markdown",
            "source": [
                "# Logistic Regression From Scratch"
            ],
            "metadata": {}
        },
        {
            "cell_type": "code",
            "execution_count": 2,
            "source": [
                "import numpy as np\n",
                "from sklearn.datasets import make_blobs"
            ],
            "outputs": [],
            "metadata": {}
        },
        {
            "cell_type": "code",
            "execution_count": 12,
            "source": [
                "class LogisticRegression:\n",
                "    \"\"\"\n",
                "    1. i need LogisticRegression class\n",
                "    2. I need __init__ function with learning rate and #iteration parameter\n",
                "    3. I need train function with X,y parameter\n",
                "    4. I need predict function\n",
                "    5. I need sigmoid function for gradiant decent and hypothesis\n",
                "    \"\"\"\n",
                "    def __init__(self, learning_rate = 0.1, iteration = 10000):\n",
                "        \"\"\"\n",
                "        :param learning_rate: A samll value needed for gradient decent, default value id 0.1.\n",
                "        :param iteration: Number of training iteration, default value is 10,000.\n",
                "        \"\"\"\n",
                "        self.lr = learning_rate\n",
                "        self.it = iteration\n",
                "    \n",
                "    def cost_function(self, y, y_pred):\n",
                "        \"\"\"\n",
                "        :param y: Original target value.\n",
                "        :param y_pred: predicted target value.\n",
                "        \"\"\"\n",
                "        return -1 / self.m * np.sum(y * np.log(y_pred) + (1 - y) * np.log(1 - y_pred))\n",
                "\n",
                "    # hypothesis function.   \n",
                "    def sigmoid(self, z):\n",
                "        \"\"\"\n",
                "        :param z: Value to calculate sigmoid.\n",
                "        \"\"\"\n",
                "        return 1 / (1 + np.exp(-z))\n",
                "\n",
                "    def train(self, X, y):\n",
                "        \"\"\"\n",
                "        :param X: training data feature values ---> N Dimentional vector.\n",
                "        :param y: training data target value -----> 1 Dimentional array.\n",
                "        \"\"\"\n",
                "        # Target value should be in the shape of (n, 1) not (n, ).\n",
                "        # So, this will check that and change the shape to (n, 1), if not.\n",
                "        try:\n",
                "            y.shape[1]\n",
                "        except IndexError as e:\n",
                "            # we need to change it to the 1 D array, not a list.\n",
                "            print(\"ERROR: Target array should be a one dimentional array not a list\"\n",
                "                  \"----> here the target value not in the shape of (n,1). \\nShape ({shape_y_0},1) and {shape_y} not match\"\n",
                "                  .format(shape_y_0 = y.shape[0] , shape_y = y.shape))\n",
                "            return \n",
                "        # m is number of training samples.\n",
                "        self.m  = X.shape[0]\n",
                "        # n is number of features/columns/dependant variables.\n",
                "        self.n = X.shape[1]\n",
                "\n",
                "        # Set the initial weight.\n",
                "        self.w = np.zeros((self.n , 1))\n",
                "        # bias.\n",
                "        self.b = 0\n",
                "\n",
                "        for it in range(1, self.it+1):\n",
                "            # 1. Find the predicted value.\n",
                "            # 2. Find the Cost function.\n",
                "            # 3. Find the derivation of weights and bias.\n",
                "            # 4. Apply Gradient Decent.\n",
                "\n",
                "            y_pred = self.sigmoid(np.dot(X, self.w) + self.b)\n",
                "\n",
                "            cost = self.cost_function(y, y_pred)\n",
                "\n",
                "            # Derivation of w and b.\n",
                "            dw = 1 / self.m * np.dot(X.T , (y_pred - y))\n",
                "            db = 1 / self.m * np.sum(y_pred - y)\n",
                "\n",
                "            # Chnage the parameter value/ apply Gradient decent.\n",
                "            self.w = self.w - (self.lr * dw)\n",
                "            self.b = self.b - (self.lr * db)\n",
                "\n",
                "            if it % 1000 == 0:\n",
                "                print(\"The Cost function for the iteration {}----->{} :)\".format(it, cost))\n",
                "    \n",
                "    def predict(self, test_X):\n",
                "        \"\"\"\n",
                "        :param: test_X: Values need to be predicted.\n",
                "        \"\"\"\n",
                "        y_pred = self.sigmoid(np.dot(test_X, self.w) + self.b)\n",
                "        # output of the sigmoid function is between [0 - 1], then need to convert it to class values either 0 or 1.\n",
                "        y_pred_class = y_pred >=0.5\n",
                "\n",
                "        return y_pred_class"
            ],
            "outputs": [],
            "metadata": {}
        },
        {
            "cell_type": "code",
            "execution_count": 19,
            "source": [
                "# Define the traning data.\n",
                "X, y = make_blobs(n_samples=5000, centers=2)\n",
                "\n",
                "# Chnage the shape of the target to 1 dimentional array.\n",
                "y = y[:, np.newaxis]\n",
                "\n",
                "print(\"=\"*100)\n",
                "print(\"Number of training data samples-----> {}\".format(X.shape[0]))\n",
                "print(\"Number of training features --------> {}\".format(X.shape[1]))\n",
                "print(\"Shape of the target value ----------> {}\".format(y.shape))"
            ],
            "outputs": [
                {
                    "output_type": "stream",
                    "name": "stdout",
                    "text": [
                        "====================================================================================================\n",
                        "Number of training data samples-----> 5000\n",
                        "Number of training features --------> 2\n",
                        "Shape of the target value ----------> (5000, 1)\n"
                    ]
                }
            ],
            "metadata": {}
        },
        {
            "cell_type": "code",
            "execution_count": 20,
            "source": [
                "#define the parameters\n",
                "param = {\n",
                "    \"learning_rate\" : 0.1,\n",
                "    \"iteration\" : 10000\n",
                "}\n",
                "print(\"=\"*100)\n",
                "log_reg = LogisticRegression(**param)\n",
                "\n",
                "# Train the model.\n",
                "log_reg.train(X, y) \n",
                "\n",
                "# Predict the values.\n",
                "y_pred = log_reg.predict(X)\n",
                "\n",
                "#calculate accuracy.\n",
                "acc = np.sum(y==y_pred)/X.shape[0]\n",
                "print(\"=\"*100)\n",
                "print(\"Accuracy of the prediction is {}\".format(acc))"
            ],
            "outputs": [
                {
                    "output_type": "stream",
                    "name": "stdout",
                    "text": [
                        "====================================================================================================\n",
                        "The Cost function for the iteration 1000----->0.03602371339407513 :)\n",
                        "The Cost function for the iteration 2000----->0.03083958133641108 :)\n",
                        "The Cost function for the iteration 3000----->0.02804445307164748 :)\n",
                        "The Cost function for the iteration 4000----->0.026035002983647044 :)\n",
                        "The Cost function for the iteration 5000----->0.02442819074384672 :)\n",
                        "The Cost function for the iteration 6000----->0.023077020411096397 :)\n",
                        "The Cost function for the iteration 7000----->0.021909144479974677 :)\n",
                        "The Cost function for the iteration 8000----->0.02088269812859516 :)\n",
                        "The Cost function for the iteration 9000----->0.019970511567438353 :)\n",
                        "The Cost function for the iteration 10000----->0.019153415288694367 :)\n",
                        "====================================================================================================\n",
                        "Accuracy of the prediction is 0.9942\n"
                    ]
                }
            ],
            "metadata": {}
        },
        {
            "cell_type": "markdown",
            "source": [
                "# Logistic Regression Using sklearn"
            ],
            "metadata": {}
        },
        {
            "cell_type": "code",
            "execution_count": 21,
            "source": [
                "from sklearn.linear_model import LogisticRegression as LogisticRegression_sklearn\n",
                "from sklearn.metrics import accuracy_score"
            ],
            "outputs": [],
            "metadata": {}
        },
        {
            "cell_type": "code",
            "execution_count": 22,
            "source": [
                "# data is already defined, going to use the same data for comparision.\n",
                "print(\"=\"*100)\n",
                "print(\"Number of training data samples-----> {}\".format(X.shape[0]))\n",
                "print(\"Number of training features --------> {}\".format(X.shape[1]))"
            ],
            "outputs": [
                {
                    "output_type": "stream",
                    "name": "stdout",
                    "text": [
                        "====================================================================================================\n",
                        "Number of training data samples-----> 5000\n",
                        "Number of training features --------> 2\n"
                    ]
                }
            ],
            "metadata": {}
        },
        {
            "cell_type": "code",
            "execution_count": 23,
            "source": [
                "log_reg_sklearn = LogisticRegression_sklearn()\n",
                "log_reg_sklearn.fit(X, y)\n",
                "\n",
                "# predict the value\n",
                "y_pred_sklearn = log_reg_sklearn.predict(X)\n",
                "acc = accuracy_score(y, y_pred_sklearn)\n",
                "print(\"=\"*100)\n",
                "print(\"Accuracy of the prediction is {}\".format(acc))"
            ],
            "outputs": [
                {
                    "output_type": "stream",
                    "name": "stdout",
                    "text": [
                        "====================================================================================================\n",
                        "Accuracy of the prediction is 0.9978\n"
                    ]
                },
                {
                    "output_type": "stream",
                    "name": "stderr",
                    "text": [
                        "/home/pavithra/.local/lib/python3.8/site-packages/sklearn/utils/validation.py:985: DataConversionWarning: A column-vector y was passed when a 1d array was expected. Please change the shape of y to (n_samples, ), for example using ravel().\n",
                        "  y = column_or_1d(y, warn=True)\n"
                    ]
                }
            ],
            "metadata": {}
        },
        {
            "cell_type": "code",
            "execution_count": 24,
            "source": [
                "# The main different between this scratch and sklearn model is speed.\n",
                "# Sklearn model train and predict more faster than sractch code.\n",
                "#  anyways this scracth code is maily for understanding the behind math and logics :) :)"
            ],
            "outputs": [],
            "metadata": {}
        },
        {
            "cell_type": "code",
            "execution_count": null,
            "source": [],
            "outputs": [],
            "metadata": {}
        }
    ],
    "metadata": {
        "orig_nbformat": 4,
        "language_info": {
            "name": "python",
            "version": "3.8.10",
            "mimetype": "text/x-python",
            "codemirror_mode": {
                "name": "ipython",
                "version": 3
            },
            "pygments_lexer": "ipython3",
            "nbconvert_exporter": "python",
            "file_extension": ".py"
        },
        "kernelspec": {
            "name": "python3",
            "display_name": "Python 3.8.10 64-bit"
        },
        "interpreter": {
            "hash": "916dbcbb3f70747c44a77c7bcd40155683ae19c65e1c03b4aa3499c5328201f1"
        }
    },
    "nbformat": 4,
    "nbformat_minor": 2
}